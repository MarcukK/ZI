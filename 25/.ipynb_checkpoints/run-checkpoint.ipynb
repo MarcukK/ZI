{
 "cells": [
  {
   "cell_type": "code",
   "execution_count": 1,
   "metadata": {},
   "outputs": [
    {
     "name": "stdout",
     "output_type": "stream",
     "text": [
      "Creating machines : k=100, n=10, l=10\n",
      "Using hebbian update rule.\n",
      "Synchronization = 100%   /  Updates = 638 / Eve's updates = 109\n",
      "Machines have been synchronized.\n",
      "Time taken = 8.594205141067505 seconds.\n",
      "Updates = 638.\n",
      "Eve's machine is only 0 % synced with Alice's and Bob's and she did 109 updates.\n"
     ]
    },
    {
     "data": {
      "text/plain": [
       "<Figure size 640x480 with 1 Axes>"
      ]
     },
     "metadata": {},
     "output_type": "display_data"
    }
   ],
   "source": [
    "from machine import Machine\n",
    "import numpy as np\n",
    "import time\n",
    "import sys\n",
    "\n",
    "#Machine parameters\n",
    "k = 100\n",
    "n = 10\n",
    "l = 10\n",
    "\n",
    "#Update rule\n",
    "update_rules = ['hebbian', 'anti_hebbian', 'random_walk']\n",
    "update_rule = update_rules[0]\n",
    "\n",
    "#Create 3 machines : Alice, Bob and Eve. Eve will try to intercept the communication between\n",
    "#Alice and Bob.\n",
    "print(\"Creating machines : k=\" + str(k) + \", n=\" + str(n) + \", l=\" + str(n))\n",
    "print(\"Using \" + update_rule + \" update rule.\")\n",
    "Alice = Machine(k, n, l)\n",
    "Bob = Machine(k, n, l)\n",
    "Eve = Machine(k, n, l)\n",
    "\n",
    "#Random number generator\n",
    "def random():\n",
    "\treturn np.random.randint(-l, l + 1, [k, n])\n",
    "\n",
    "#Function to evaluate the synchronization score between two machines.\n",
    "def sync_score(m1, m2):\n",
    "\treturn 1.0 - np.average(1.0 * np.abs(m1.W - m2.W)/(2 * l))\n",
    "\n",
    "#Synchronize weights\n",
    "\n",
    "sync = False # Flag to check if weights are sync\n",
    "nb_updates = 0 # Update counter\n",
    "nb_eve_updates = 0 # To count the number of times eve updated\n",
    "start_time = time.time() # Start time\n",
    "sync_history = [] # to store the sync score after every update\n",
    "\n",
    "while(not sync):\n",
    "\n",
    "\tX = random() # Create random vector of dimensions [k, n]\n",
    "\n",
    "\ttauA = Alice(X) # Get output from Alice\n",
    "\ttauB = Bob(X) # Get output from Bob\n",
    "\ttauE = Eve(X) # Get output from Eve\n",
    "\n",
    "\tAlice.update(tauB, update_rule) # Update Alice with Bob's output\n",
    "\tBob.update(tauA, update_rule) # Update Bob with Alice's output\n",
    "\n",
    "\t#Eve would update only if tauA = tauB = tauE\n",
    "\tif tauA == tauB == tauE:\n",
    "\t\tEve.update(tauA, update_rule)\n",
    "\t\tnb_eve_updates += 1\n",
    "\n",
    "\tnb_updates += 1\n",
    "\n",
    "\tscore = 100 * sync_score(Alice, Bob) # Calculate the synchronization of the 2 machines\n",
    "\n",
    "\tsync_history.append(score) # Add sync score to history, so that we can plot a graph later.\n",
    "\n",
    "\tsys.stdout.write('\\r' + \"Synchronization = \" + str(int(score)) + \"%   /  Updates = \" + str(nb_updates) + \" / Eve's updates = \" + str(nb_eve_updates)) \n",
    "\tif score == 100: # If synchronization score is 100%, set sync flag = True\n",
    "\t\tsync = True\n",
    "\n",
    "end_time = time.time()\n",
    "time_taken = end_time - start_time # Calculate time taken\n",
    "\n",
    "#Print results\n",
    "print ('\\nMachines have been synchronized.')\n",
    "print ('Time taken = ' + str(time_taken)+ \" seconds.\")\n",
    "print ('Updates = ' + str(nb_updates) + \".\")\n",
    "\n",
    "#See if Eve got what she wanted:\n",
    "eve_score = 100 * int(sync_score(Alice, Eve))\n",
    "if eve_score > 100:\n",
    "\tprint(\"Oops! Nosy Eve synced her machine with Alice's and Bob's !\")\n",
    "else:\n",
    "\tprint(\"Eve's machine is only \" + str(eve_score) + \" % \" + \"synced with Alice's and Bob's and she did \" + str(nb_eve_updates) + \" updates.\") \n",
    "\n",
    "#Plot graph \n",
    "import matplotlib as mpl\n",
    "mpl.pyplot.plot(sync_history)\n",
    "mpl.pyplot.show()\n"
   ]
  },
  {
   "cell_type": "code",
   "execution_count": null,
   "metadata": {},
   "outputs": [],
   "source": []
  }
 ],
 "metadata": {
  "kernelspec": {
   "display_name": "Python 3",
   "language": "python",
   "name": "python3"
  },
  "language_info": {
   "codemirror_mode": {
    "name": "ipython",
    "version": 3
   },
   "file_extension": ".py",
   "mimetype": "text/x-python",
   "name": "python",
   "nbconvert_exporter": "python",
   "pygments_lexer": "ipython3",
   "version": "3.7.3"
  }
 },
 "nbformat": 4,
 "nbformat_minor": 2
}
