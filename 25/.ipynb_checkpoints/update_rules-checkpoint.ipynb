{
 "cells": [
  {
   "cell_type": "code",
   "execution_count": null,
   "metadata": {},
   "outputs": [],
   "source": [
    "#Update rules for tree parity machine\n",
    "\n",
    "import numpy as np\n",
    "\n",
    "def theta(t1, t2):\n",
    "\treturn 1 if t1 == t2 else 0\n",
    "\n",
    "def hebbian(W, X, sigma, tau1, tau2, l):\n",
    "\tk, n = W.shape\n",
    "\tfor (i, j), _ in np.ndenumerate(W):\n",
    "\t\tW[i, j] += X[i, j] * tau1 * theta(sigma[i], tau1) * theta(tau1, tau2)\n",
    "\t\tW[i, j] = np.clip(W[i, j] , -l, l)\n",
    "\n",
    "def anti_hebbian(W, X, sigma, tau1, tau2, l):\n",
    "\tk, n = W.shape\n",
    "\tfor (i, j), _ in np.ndenumerate(W):\n",
    "\t\tW[i, j] -= X[i, j] * tau1 * theta(sigma[i], tau1) * theta(tau1, tau2)\n",
    "\t\tW[i, j] = np.clip(W[i, j], -l, l)\n",
    "\n",
    "def random_walk(W, X, sigma, tau1, tau2, l):\n",
    "\tk, n = W.shape\n",
    "\tfor (i, j), _ in np.ndenumerate(W):\n",
    "\t\tW[i, j] += X[i, j] * theta(sigma[i], tau1) * theta(tau1, tau2)\n",
    "\t\tW[i, j] = np.clip(W[i, j] , -l, l)\n"
   ]
  }
 ],
 "metadata": {
  "kernelspec": {
   "display_name": "Python 3",
   "language": "python",
   "name": "python3"
  },
  "language_info": {
   "codemirror_mode": {
    "name": "ipython",
    "version": 3
   },
   "file_extension": ".py",
   "mimetype": "text/x-python",
   "name": "python",
   "nbconvert_exporter": "python",
   "pygments_lexer": "ipython3",
   "version": "3.7.3"
  }
 },
 "nbformat": 4,
 "nbformat_minor": 2
}
